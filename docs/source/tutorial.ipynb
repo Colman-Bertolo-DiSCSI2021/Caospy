{
 "cells": [
  {
   "cell_type": "markdown",
   "id": "099f129b-ce10-4850-9c36-65c46d4ebbab",
   "metadata": {},
   "source": [
    "# <u>Caospy's Tutorial</u>"
   ]
  },
  {
   "cell_type": "markdown",
   "id": "145439ec-9899-4e08-8899-75e44a4700a8",
   "metadata": {},
   "source": [
    "In this notebook you find the tools and functions of Caospy, so let's go to learn!."
   ]
  },
  {
   "cell_type": "markdown",
   "id": "5964f244-f622-4988-8cce-bd63dd81ae49",
   "metadata": {},
   "source": [
    "## Prerequisites\n",
    "\n",
    "You’ll need to know a bit of Python. For a refresher, see the [The Python Tutorial](https://docs.python.org/3/tutorial/).\n",
    "\n",
    "To work the examples, you’ll need matplotlib installed in addition to Caospy."
   ]
  },
  {
   "cell_type": "markdown",
   "id": "f02d8ee3-3629-4a11-8ecc-f78ef53d6fc3",
   "metadata": {},
   "source": [
    "## Imports "
   ]
  },
  {
   "cell_type": "markdown",
   "id": "247adc5d-285f-46d5-b2ab-177f0d819ec3",
   "metadata": {},
   "source": [
    "Like any library in python, it needs to be imported. We reccomendeed you the following way."
   ]
  },
  {
   "cell_type": "code",
   "execution_count": 1,
   "id": "2846149f-10df-4e08-bb15-64f260265d44",
   "metadata": {},
   "outputs": [],
   "source": [
    "import caospy as cp "
   ]
  },
  {
   "cell_type": "markdown",
   "id": "2a8a3682-3449-48b5-a965-60d80bf2e373",
   "metadata": {},
   "source": [
    "Also we need matplotlib to work with the plots. "
   ]
  },
  {
   "cell_type": "code",
   "execution_count": 2,
   "id": "7c75cdd1-f54c-41ac-a1eb-b4571cc1cd8e",
   "metadata": {},
   "outputs": [],
   "source": [
    "import matplotlib.pyplot as plt"
   ]
  },
  {
   "cell_type": "markdown",
   "id": "084257b4-c182-44d8-8b95-3f1d126bfab4",
   "metadata": {},
   "source": [
    "## Functions "
   ]
  },
  {
   "cell_type": "markdown",
   "id": "9dd829ba-cc92-4df4-a1b9-2ee9584c9c86",
   "metadata": {},
   "source": [
    "Caospy is a Python package for analyze dynamical systems in 1D, 2D or 3D; so depending on the dimension you have different utilities. In the next sections there are examples wich show how to use  this librarie. "
   ]
  },
  {
   "cell_type": "markdown",
   "id": "da368b81-026f-442c-b1c3-11b86c99ddf2",
   "metadata": {},
   "source": [
    "### One dimensional analyze"
   ]
  },
  {
   "cell_type": "markdown",
   "id": "3034677a-8729-4f25-b40b-9223375e842c",
   "metadata": {},
   "source": [
    "We study a ODE in one dimensional, wich it's defined by the equation:\n",
    "\n",
    "$$\\frac{dy}{dt} = \\lambda y \\hspace{2 cm} \\lambda = cte $$   "
   ]
  },
  {
   "cell_type": "markdown",
   "id": "ace0b96d-b69b-4749-b30b-9421915c59e5",
   "metadata": {},
   "source": [
    "In Caospy a function can be initialized symbolically by strings or with python's functions. If you use the first option, you can use all the Casopy's tools, wich doesn't happend when you use the other way (python's functions).\n",
    "\n",
    "We'll develop the above equation symbolically.  Let's define first the ODE, variables, parameters and name."
   ]
  },
  {
   "cell_type": "code",
   "execution_count": 3,
   "id": "682b04e4-d671-4b4b-8f44-608419c666cc",
   "metadata": {},
   "outputs": [],
   "source": [
    "fun = [\"λ*y-y**2\"]  # Define de ODE's RHS \n",
    "var = [\"y\"] # Variables\n",
    "par = [\"λ\"] # Parameters\n",
    "name = \"1D Ode example\" "
   ]
  },
  {
   "cell_type": "markdown",
   "id": "20a5689b-f6f2-4dda-8464-335384366f71",
   "metadata": {},
   "source": [
    "Now we need to initialized the study case, because our Ode is 1D we use:"
   ]
  },
  {
   "cell_type": "code",
   "execution_count": 4,
   "id": "37c84111-4e85-4ac9-9b1f-cf8047d7966b",
   "metadata": {},
   "outputs": [],
   "source": [
    "Ode_1d = cp.OneDim(var, fun, par, name)"
   ]
  },
  {
   "cell_type": "markdown",
   "id": "c734c124-7b3c-4c6b-b0fe-94074acf8f1d",
   "metadata": {},
   "source": [
    "An important information about dynamic systems are their [fixed points](https://mathworld.wolfram.com/FixedPoint.html).  Caospy displays a data frame with the fixed point and the slope and stability of them."
   ]
  },
  {
   "cell_type": "code",
   "execution_count": 5,
   "id": "ab3e103f-a59a-4279-9eb0-d9523aca836f",
   "metadata": {},
   "outputs": [
    {
     "data": {
      "text/html": [
       "<div>\n",
       "<style scoped>\n",
       "    .dataframe tbody tr th:only-of-type {\n",
       "        vertical-align: middle;\n",
       "    }\n",
       "\n",
       "    .dataframe tbody tr th {\n",
       "        vertical-align: top;\n",
       "    }\n",
       "\n",
       "    .dataframe thead th {\n",
       "        text-align: right;\n",
       "    }\n",
       "</style>\n",
       "<table border=\"1\" class=\"dataframe\">\n",
       "  <thead>\n",
       "    <tr style=\"text-align: right;\">\n",
       "      <th></th>\n",
       "      <th>Fixed Point</th>\n",
       "      <th>Slope</th>\n",
       "      <th>Stability</th>\n",
       "    </tr>\n",
       "  </thead>\n",
       "  <tbody>\n",
       "    <tr>\n",
       "      <th>0</th>\n",
       "      <td>[0.0]</td>\n",
       "      <td>1.0</td>\n",
       "      <td>False</td>\n",
       "    </tr>\n",
       "    <tr>\n",
       "      <th>1</th>\n",
       "      <td>[1.0]</td>\n",
       "      <td>-1.0</td>\n",
       "      <td>True</td>\n",
       "    </tr>\n",
       "  </tbody>\n",
       "</table>\n",
       "</div>"
      ],
      "text/plain": [
       "  Fixed Point  Slope  Stability\n",
       "0       [0.0]    1.0      False\n",
       "1       [1.0]   -1.0       True"
      ]
     },
     "execution_count": 5,
     "metadata": {},
     "output_type": "execute_result"
    }
   ],
   "source": [
    "p = [1] # Parameters's value\n",
    "df = Ode_1d.stability(p)\n",
    "df"
   ]
  },
  {
   "cell_type": "markdown",
   "id": "d0d095ae-a4f4-41a0-8a03-9d083b01c37a",
   "metadata": {},
   "source": [
    "Now let's do a numerical integration for get the solution in a specific time. "
   ]
  },
  {
   "cell_type": "code",
   "execution_count": 6,
   "id": "1c386a34-28b0-441e-923b-e3022fde106c",
   "metadata": {},
   "outputs": [],
   "source": [
    "t0 = 0 # Initial time\n",
    "tf = 9 # Final time \n",
    "N = 500 # Steps's numbers for go from t0 to tf\n",
    "y0 = [0.1] # Initial value\n",
    "sol = Ode_1d.time_evolution(y0, p, t0, tf, N)"
   ]
  },
  {
   "cell_type": "markdown",
   "id": "574fc6bd-99b2-449e-bbdf-457e4733b934",
   "metadata": {},
   "source": [
    "The plot of  time (hoizontal axis) - $y$ value (vertical axis) is:"
   ]
  },
  {
   "cell_type": "code",
   "execution_count": 7,
   "id": "f806f8ec-e250-411f-9bd7-6d81e88c2124",
   "metadata": {},
   "outputs": [
    {
     "data": {
      "text/plain": [
       "<AxesSubplot:>"
      ]
     },
     "execution_count": 7,
     "metadata": {},
     "output_type": "execute_result"
    },
    {
     "data": {
      "image/png": "[encoded data removed]",
      "text/plain": [
       "<Figure size 432x288 with 1 Axes>"
      ]
     },
     "metadata": {
      "needs_background": "light"
     },
     "output_type": "display_data"
    }
   ],
   "source": [
    "sol.plot_trajectorie(\"t-x\")"
   ]
  },
  {
   "cell_type": "markdown",
   "id": "708a9ea7-a5ef-4bbd-b93b-9a1d322e0753",
   "metadata": {},
   "source": [
    "Note you that to plot in the horizontal axis the time and in the vertical axis $ y $ was wrote the string \"x-y\" in the plot_rajectorie function. This concept is important to plot and we'll return in him more late.\n",
    "\n",
    "You can set up the chart with matplotlib. "
   ]
  },
  {
   "cell_type": "code",
   "execution_count": 8,
   "id": "85ba47a4-6f35-4cd1-b7d9-bd7fe655b6c3",
   "metadata": {},
   "outputs": [
    {
     "data": {
      "text/plain": [
       "Text(0.5, 1.0, '1D Ode analyze')"
      ]
     },
     "execution_count": 8,
     "metadata": {},
     "output_type": "execute_result"
    },
    {
     "data": {
      "image/png": "[encoded data removed]",
      "text/plain": [
       "<Figure size 432x288 with 1 Axes>"
      ]
     },
     "metadata": {
      "needs_background": "light"
     },
     "output_type": "display_data"
    }
   ],
   "source": [
    "fig, ax = plt.subplots()\n",
    "kws = {\"color\": \"b\",\n",
    "        \"lw\": 3,\n",
    "         \"linestyle\": \"--\"}\n",
    "ax = sol.plot_trajectorie(\"t-x\", kws = kws)\n",
    "ax.set_xlabel(r\"$t$\", fontsize=14)\n",
    "ax.set_ylabel(r\"$y$\", fontsize=14)\n",
    "ax.set_title(\"1D Ode analyze\", fontsize=16)"
   ]
  },
  {
   "cell_type": "markdown",
   "id": "9dd62aea-bbb3-4201-ab35-71d0ae80e3d9",
   "metadata": {},
   "source": [
    "If you just want to do a numerical integration, you can define your problem with the Python's functions and  Functional class."
   ]
  },
  {
   "cell_type": "code",
   "execution_count": 9,
   "id": "6f86aefd-4f09-4372-a5b8-c1921b4fe8db",
   "metadata": {},
   "outputs": [
    {
     "data": {
      "text/plain": [
       "<AxesSubplot:>"
      ]
     },
     "execution_count": 9,
     "metadata": {},
     "output_type": "execute_result"
    },
    {
     "data": {
      "image/png": "[encoded data removed]",
      "text/plain": [
       "<Figure size 432x288 with 1 Axes>"
      ]
     },
     "metadata": {
      "needs_background": "light"
     },
     "output_type": "display_data"
    }
   ],
   "source": [
    "def fun(y, t, par): # Define function\n",
    "    dy = par*y\n",
    "    return [dy]\n",
    "fun = cp.Functional(fun, \"Other example\")\n",
    "p = -1# Parameter's value\n",
    "t0 = 0 # Initial time\n",
    "tf = 3 # Final Time\n",
    "N = 500 # Steps\n",
    "y0 = [1] # Initial  Value\n",
    "sol = fun.time_evolution(y0, p, t0, tf, N)\n",
    "sol.plot_trajectorie(\"t-x\")\n"
   ]
  },
  {
   "cell_type": "markdown",
   "id": "d3327d45-82c1-4db2-a47e-b5d62e88ceb6",
   "metadata": {},
   "source": [
    "### Two dimensional analyze\n",
    "\n",
    "We're studying with the 2D Ode equation:\n",
    "\n",
    "$$ \\frac{du}{dt} = u-v  \\\\\n",
    "   \\frac{dv}{dt} = 4u-2v  $$\n",
    "   \n",
    "Like before, we have to initialized the problem \n"
   ]
  },
  {
   "cell_type": "code",
   "execution_count": 10,
   "id": "f8641a31-4962-4209-b062-5795f3a6cde5",
   "metadata": {},
   "outputs": [],
   "source": [
    "fun = [\"u+v\", \"u-2*v\"] # Function\n",
    "var = [\"u\", \"v\"] # Variables\n",
    "par = [] # Parameters}\n",
    "name = \"Ode 2D\"\n",
    "Ode_2d = cp.TwoDim(var, fun, par, name)"
   ]
  },
  {
   "cell_type": "markdown",
   "id": "0d250375-9b52-41af-8810-f7d4efc0e2c3",
   "metadata": {},
   "source": [
    "In two dimensions there is more information about the system. Besides fixed point, we obtain eigenvalues and roots and the type of fixed points. We recommended you read \"NONLINEAR \n",
    "DYNAMICS AND \n",
    "CHAOS - Steven H. Strogatz\""
   ]
  },
  {
   "cell_type": "code",
   "execution_count": 11,
   "id": "082fb5fd-9937-4701-9a46-23e647cf58b4",
   "metadata": {},
   "outputs": [
    {
     "data": {
      "text/html": [
       "<div>\n",
       "<style scoped>\n",
       "    .dataframe tbody tr th:only-of-type {\n",
       "        vertical-align: middle;\n",
       "    }\n",
       "\n",
       "    .dataframe tbody tr th {\n",
       "        vertical-align: top;\n",
       "    }\n",
       "\n",
       "    .dataframe thead th {\n",
       "        text-align: right;\n",
       "    }\n",
       "</style>\n",
       "<table border=\"1\" class=\"dataframe\">\n",
       "  <thead>\n",
       "    <tr style=\"text-align: right;\">\n",
       "      <th></th>\n",
       "      <th>$u$</th>\n",
       "      <th>$v$</th>\n",
       "      <th>$λ_{1}$</th>\n",
       "      <th>$λ_{2}$</th>\n",
       "      <th>$σ$</th>\n",
       "      <th>$Δ$</th>\n",
       "      <th>$Type$</th>\n",
       "    </tr>\n",
       "  </thead>\n",
       "  <tbody>\n",
       "    <tr>\n",
       "      <th>0</th>\n",
       "      <td>0.0</td>\n",
       "      <td>0.0</td>\n",
       "      <td>1.3</td>\n",
       "      <td>-2.3</td>\n",
       "      <td>(-1+0j)</td>\n",
       "      <td>(-3+0j)</td>\n",
       "      <td>Saddle</td>\n",
       "    </tr>\n",
       "  </tbody>\n",
       "</table>\n",
       "</div>"
      ],
      "text/plain": [
       "   $u$  $v$ $λ_{1}$ $λ_{2}$      $σ$      $Δ$  $Type$\n",
       "0  0.0  0.0     1.3    -2.3  (-1+0j)  (-3+0j)  Saddle"
      ]
     },
     "execution_count": 11,
     "metadata": {},
     "output_type": "execute_result"
    }
   ],
   "source": [
    "df = Ode_2d.fixed_point_classify(par)\n",
    "df"
   ]
  },
  {
   "cell_type": "markdown",
   "id": "aeeb94f2-474b-490a-b166-6d10a11b296c",
   "metadata": {},
   "source": [
    "If you just have eigenvalues or eigenvectors:"
   ]
  },
  {
   "cell_type": "code",
   "execution_count": 12,
   "id": "da89bd8d-98a8-49b2-9e9a-9bb583d29a18",
   "metadata": {},
   "outputs": [
    {
     "data": {
      "text/plain": [
       "array([[ 1.30277564, -2.30277564]])"
      ]
     },
     "execution_count": 12,
     "metadata": {},
     "output_type": "execute_result"
    }
   ],
   "source": [
    "Ode_2d.eigenvalues(par)"
   ]
  },
  {
   "cell_type": "code",
   "execution_count": 13,
   "id": "f1aceba0-9e32-4552-b913-0d673adc66ba",
   "metadata": {},
   "outputs": [
    {
     "data": {
      "text/plain": [
       "array([[[ 0.95709203,  0.28978415],\n",
       "        [-0.28978415,  0.95709203]]])"
      ]
     },
     "execution_count": 13,
     "metadata": {},
     "output_type": "execute_result"
    }
   ],
   "source": [
    "Ode_2d.eigenvectors(par)"
   ]
  },
  {
   "cell_type": "markdown",
   "id": "ead425ef-47d1-489c-b586-585aa164c3be",
   "metadata": {},
   "source": [
    "Now we will do a numerical integration of the system and draw the solution. Although now our variables are $ u $,  $ v $ and $t$, you must define it to plot with the string \"x-y\" \", in reference $ x $ to the first variable defined in the vector of var and $ y $ to the second. If you use \"t-x\" the module automatically recongizes to $t$ like time. \n",
    "\n"
   ]
  },
  {
   "cell_type": "code",
   "execution_count": 14,
   "id": "6284b93c-94ce-4eaa-bf7d-8a88b7fb8564",
   "metadata": {},
   "outputs": [
    {
     "data": {
      "text/plain": [
       "Text(0.5, 1.0, '2D Ode analyze')"
      ]
     },
     "execution_count": 14,
     "metadata": {},
     "output_type": "execute_result"
    },
    {
     "data": {
      "image/png": "[encoded data removed]",
      "text/plain": [
       "<Figure size 432x288 with 1 Axes>"
      ]
     },
     "metadata": {
      "needs_background": "light"
     },
     "output_type": "display_data"
    }
   ],
   "source": [
    "t0 = 0 # Initial time\n",
    "tf = 2 # Final time\n",
    "N =800  # Steps\n",
    "x0 = [1, 1] # Initial values vector\n",
    "sol = Ode_2d.time_evolution(x0, par, t0, tf, N)\n",
    "fig, ax = plt.subplots()\n",
    "ax = sol.plot_trajectorie(\"x-y\", kws = kws)\n",
    "ax.set_xlabel(r\"$u$\", fontsize=14)\n",
    "ax.set_ylabel(r\"$v$\", fontsize=14)\n",
    "ax.set_title(\"2D Ode analyze\", fontsize=16)"
   ]
  },
  {
   "cell_type": "markdown",
   "id": "8c18fc56-bc0e-4fb9-90b7-d5b750d686cf",
   "metadata": {},
   "source": [
    "### Three dimensional analyze"
   ]
  },
  {
   "cell_type": "markdown",
   "id": "1e38147f-b399-4e5a-9f9e-84f1890b21a7",
   "metadata": {},
   "source": [
    "We'll work with 3D Ode sysmtems. A powerful utility is that Caospy has traditional equations in dynamical systems implemented. They are: [Lorenz System](https://en.wikipedia.org/wiki/Lorenz_system), [Duffing equation](https://en.wikipedia.org/wiki/Duffing_equation), [Logistic map](https://en.wikipedia.org/wiki/Logistic_map) and [Rössler attractor](https://en.wikipedia.org/wiki/R%C3%B6ssler_attractor). In this section we work with the 3D Lorenz system. "
   ]
  },
  {
   "cell_type": "code",
   "execution_count": 15,
   "id": "f853dd7b-5c4e-44a7-a3f7-82ebae14cf23",
   "metadata": {},
   "outputs": [],
   "source": [
    "lorenz = cp.Lorenz()"
   ]
  },
  {
   "cell_type": "markdown",
   "id": "c39bf92a-8866-4ced-a18c-3e2adc5aecaa",
   "metadata": {},
   "source": [
    "Like befor, you have to compute information about him."
   ]
  },
  {
   "cell_type": "code",
   "execution_count": 16,
   "id": "234b7215-aed9-433e-a8c1-6da104e1da77",
   "metadata": {},
   "outputs": [
    {
     "data": {
      "text/plain": [
       "array([[-13.85457791 +0.j        ,   0.09395562+10.19450522j,\n",
       "          0.09395562-10.19450522j],\n",
       "       [-22.82772345 +0.j        ,  11.82772345 +0.j        ,\n",
       "         -2.66666667 +0.j        ],\n",
       "       [-13.85457791 +0.j        ,   0.09395562+10.19450522j,\n",
       "          0.09395562-10.19450522j]])"
      ]
     },
     "execution_count": 16,
     "metadata": {},
     "output_type": "execute_result"
    }
   ],
   "source": [
    "par = [10, 28, 8/3]\n",
    "lorenz.eigenvalues(par)"
   ]
  },
  {
   "cell_type": "code",
   "execution_count": 17,
   "id": "2465a20e-078f-44ea-a123-f92f2b11e234",
   "metadata": {},
   "outputs": [
    {
     "data": {
      "text/plain": [
       "array([[[ 0.85566502+0.j        , -0.32982275+0.j        ,\n",
       "          0.39881615+0.j        ],\n",
       "        [-0.26611932-0.29501017j,  0.03212861-0.56907743j,\n",
       "          0.71921356+0.j        ],\n",
       "        [-0.26611932+0.29501017j,  0.03212861+0.56907743j,\n",
       "          0.71921356-0.j        ]],\n",
       "\n",
       "       [[-0.61481679+0.j        ,  0.78866997+0.j        ,\n",
       "          0.        +0.j        ],\n",
       "        [-0.41650418+0.j        , -0.9091338 +0.j        ,\n",
       "          0.        +0.j        ],\n",
       "        [ 0.        +0.j        ,  0.        +0.j        ,\n",
       "          1.        +0.j        ]],\n",
       "\n",
       "       [[ 0.85566502+0.j        , -0.32982275+0.j        ,\n",
       "         -0.39881615+0.j        ],\n",
       "        [-0.26611932-0.29501017j,  0.03212861-0.56907743j,\n",
       "         -0.71921356+0.j        ],\n",
       "        [-0.26611932+0.29501017j,  0.03212861+0.56907743j,\n",
       "         -0.71921356-0.j        ]]])"
      ]
     },
     "execution_count": 17,
     "metadata": {},
     "output_type": "execute_result"
    }
   ],
   "source": [
    "lorenz.eigenvectors(par)"
   ]
  },
  {
   "cell_type": "code",
   "execution_count": 18,
   "id": "91d562f8-271a-40d2-9fdb-0164412ca743",
   "metadata": {},
   "outputs": [
    {
     "data": {
      "text/plain": [
       "array([[-8.48528137, -8.48528137, 27.        ],\n",
       "       [ 0.        ,  0.        ,  0.        ],\n",
       "       [ 8.48528137,  8.48528137, 27.        ]])"
      ]
     },
     "execution_count": 18,
     "metadata": {},
     "output_type": "execute_result"
    }
   ],
   "source": [
    "lorenz.fixed_points(par)"
   ]
  },
  {
   "cell_type": "markdown",
   "id": "9d96fcd4-ac92-4a45-b3b8-1df1a6c69781",
   "metadata": {},
   "source": [
    "Let's  get the solution and do a 3D plot. "
   ]
  },
  {
   "cell_type": "code",
   "execution_count": 19,
   "id": "0b125d15-4264-4ade-9211-372a84bafa40",
   "metadata": {},
   "outputs": [
    {
     "data": {
      "text/plain": [
       "Text(0.5, 0.92, 'Lorenz Atractor')"
      ]
     },
     "execution_count": 19,
     "metadata": {},
     "output_type": "execute_result"
    },
    {
     "data": {
      "image/png": "[encoded data removed]",
      "text/plain": [
       "<Figure size 576x432 with 1 Axes>"
      ]
     },
     "metadata": {
      "needs_background": "light"
     },
     "output_type": "display_data"
    }
   ],
   "source": [
    "t0 = 0 # Initial time\n",
    "tf = 40 # End Time\n",
    "N = 1000 # Steps\n",
    "x0 = [1,1,1] # Initial value\n",
    "sol3d = lorenz.time_evolution(x0, par, t0, tf, N)\n",
    "fig = plt.figure(figsize=(8, 6))\n",
    "ax=  plt.axes(projection='3d')\n",
    "sol3d.plot_trajectorie(\"x-y-z\", ax)\n",
    "ax.set_xlabel(\"x\", fontsize = 14)\n",
    "ax.set_ylabel(\"y\", fontsize = 14)\n",
    "ax.set_zlabel(\"z\", fontsize = 14)\n",
    "ax.set_title(\"Lorenz Atractor\", fontsize = 16)"
   ]
  },
  {
   "cell_type": "markdown",
   "id": "9d1baaaa-2d3e-46a7-8cb9-27909a8aac37",
   "metadata": {},
   "source": [
    "Poiuncare maps"
   ]
  }
 ],
 "metadata": {
  "kernelspec": {
   "display_name": "Python 3 (ipykernel)",
   "language": "python",
   "name": "python3"
  },
  "language_info": {
   "codemirror_mode": {
    "name": "ipython",
    "version": 3
   },
   "file_extension": ".py",
   "mimetype": "text/x-python",
   "name": "python",
   "nbconvert_exporter": "python",
   "pygments_lexer": "ipython3",
   "version": "3.8.11"
  }
 },
 "nbformat": 4,
 "nbformat_minor": 5
}
